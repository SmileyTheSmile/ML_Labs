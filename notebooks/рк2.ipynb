{
 "cells": [
  {
   "attachments": {},
   "cell_type": "markdown",
   "metadata": {},
   "source": [
    "#  Капитанов Даниил Сергеевич ИУ5-24М"
   ]
  },
  {
   "attachments": {},
   "cell_type": "markdown",
   "metadata": {},
   "source": [
    "Необходимо подготовить отчет по рубежному контролю и разместить его в Вашем репозитории. Вы можете использовать титульный лист, или в начале ноутбука в текстовой ячейке указать Ваши Ф.И.О. и группу.\n",
    "Тема: Методы обучения с подкреплением.\n",
    "\n",
    "Для одного из алгоритмов временных различий, реализованных Вами в соответствующей лабораторная работе:\n",
    "\n",
    "    SARSA\n",
    "    Q-обучение\n",
    "    Двойное Q-обучение\n",
    "\n",
    "осуществите подбор гиперпараметров. Критерием оптимизации должна являться суммарная награда."
   ]
  },
  {
   "attachments": {},
   "cell_type": "markdown",
   "metadata": {},
   "source": [
    "## Код"
   ]
  },
  {
   "cell_type": "code",
   "execution_count": 1,
   "metadata": {},
   "outputs": [
    {
     "name": "stdout",
     "output_type": "stream",
     "text": [
      "Defaulting to user installation because normal site-packages is not writeable\n",
      "Requirement already satisfied: tqdm in /home/dan/.local/lib/python3.10/site-packages (4.65.0)\n",
      "Defaulting to user installation because normal site-packages is not writeable\n",
      "Requirement already satisfied: gym in /home/dan/.local/lib/python3.10/site-packages (0.26.2)\n",
      "Requirement already satisfied: numpy>=1.18.0 in /home/dan/.local/lib/python3.10/site-packages (from gym) (1.23.5)\n",
      "Requirement already satisfied: cloudpickle>=1.2.0 in /home/dan/.local/lib/python3.10/site-packages (from gym) (2.2.1)\n",
      "Requirement already satisfied: gym-notices>=0.0.4 in /home/dan/.local/lib/python3.10/site-packages (from gym) (0.0.8)\n"
     ]
    }
   ],
   "source": [
    "! pip install tqdm\n",
    "! pip install gym"
   ]
  },
  {
   "cell_type": "code",
   "execution_count": 2,
   "metadata": {},
   "outputs": [],
   "source": [
    "import numpy as np\n",
    "import matplotlib.pyplot as plt\n",
    "import gym \n",
    "from tqdm import tqdm "
   ]
  },
  {
   "cell_type": "code",
   "execution_count": 3,
   "metadata": {},
   "outputs": [],
   "source": [
    "class BasicAgent: \n",
    "    ''' \n",
    "    Базовый агент, от которого наследуются стратегии обучения \n",
    "    ''' \n",
    "    # Наименование алгоритма \n",
    "    ALGO_NAME = '---' \n",
    "    def __init__(self, env, eps=0.1): \n",
    "        # Среда         \n",
    "        self.env = env         \n",
    "        # Размерности Q-матрицы         \n",
    "        self.nA = env.action_space.n         \n",
    "        self.nS = env.observation_space.n \n",
    "        # и сама матрица \n",
    "        self.Q = np.zeros((self.nS, self.nA))         \n",
    "        # Значения коэффициентов \n",
    "        # Порог выбора случайного действия         \n",
    "        self.eps = eps \n",
    "        # Награды по эпизодам        \n",
    "        self.episodes_reward = []    \n",
    "    \n",
    "    def print_q(self):        \n",
    "        print('Вывод Q-матрицы для алгоритма ', self.ALGO_NAME)        \n",
    "        print(self.Q) \n",
    "    \n",
    "    def get_state(self, state): \n",
    "        ''' \n",
    "        Возвращает правильное начальное состояние \n",
    "        '''        \n",
    "        # Если состояние вернулось с виде кортежа, то вернуть только номер состояния           \n",
    "        return state[0] if type(state) is tuple else state  \n",
    "\n",
    "    def greedy(self, state): \n",
    "        ''' \n",
    "        <<Жадное>> текущее действие \n",
    "        Возвращает действие, соответствующее максимальному Q-значению         для состояния state \n",
    "        '''         \n",
    "        return np.argmax(self.Q[state]) \n",
    " \n",
    "    def make_action(self, state): \n",
    "        ''' \n",
    "        Выбор действия агентом \n",
    "        '''         \n",
    "        if np.random.uniform(0,1) < self.eps: \n",
    "            # Если вероятность меньше eps то выбирается случайное действие             \n",
    "            return self.env.action_space.sample()\n",
    "        # иначе действие, соответствующее максимальному Q-значению\n",
    "        return self.greedy(state) \n",
    " \n",
    "    def draw_episodes_reward(self): \n",
    "        # Построение графика наград по эпизодам         \n",
    "        fig, ax = plt.subplots(figsize = (15,10))         \n",
    "        y = self.episodes_reward         \n",
    "        x = list(range(1, len(y)+1)) \n",
    "        plt.plot(x, y, '-', linewidth=1, color='green')         \n",
    "        plt.title('Награды по эпизодам')         \n",
    "        plt.xlabel('Номер эпизода')         \n",
    "        plt.ylabel('Награда') \n",
    "        plt.show() \n",
    "        \n",
    "def learn(): \n",
    "    ''' \n",
    "    Реализация алгоритма обучения \n",
    "    '''    \n",
    "    pass "
   ]
  },
  {
   "cell_type": "code",
   "execution_count": 4,
   "metadata": {},
   "outputs": [],
   "source": [
    "class SARSA_Agent(BasicAgent):     \n",
    "    ''' \n",
    "    Реализация алгоритма SARSA \n",
    "    ''' \n",
    "    # Наименование алгоритма \n",
    "    ALGO_NAME = 'SARSA' \n",
    " \n",
    "    def __init__(self, env, eps=0.015, lr=0.1, gamma=0.97, num_episodes=20000): \n",
    "        # Вызов конструктора верхнего уровня         \n",
    "        super().__init__(env, eps) \n",
    "        # Learning rate         \n",
    "        self.lr=lr \n",
    "        # Коэффициент дисконтирования         \n",
    "        self.gamma = gamma         \n",
    "        # Количество эпизодов         \n",
    "        self.num_episodes=num_episodes         \n",
    "        # Постепенное уменьшение eps         \n",
    "        self.eps_decay = 0.00005         \n",
    "        self.eps_threshold = 0.01 \n",
    " \n",
    "    def learn(self): \n",
    "        ''' \n",
    "        Обучение на основе алгоритма SARSA \n",
    "        ''' \n",
    "        self.episodes_reward = []         \n",
    "        # Цикл по эпизодам         \n",
    "        for ep in tqdm(list(range(self.num_episodes))): \n",
    "            # Начальное состояние среды \n",
    "            state = self.get_state(self.env.reset())             \n",
    "            # Флаг штатного завершения эпизода             \n",
    "            done = False \n",
    "            # Флаг нештатного завершения эпизода             \n",
    "            truncated = False \n",
    "            # Суммарная награда по эпизоду             \n",
    "            tot_rew = 0 \n",
    " \n",
    "            # По мере заполнения Q-матрицы уменьшаем вероятность случайного выбора действия \n",
    "            if self.eps > self.eps_threshold:                \n",
    "                self.eps -= self.eps_decay \n",
    "            # Выбор действия        \n",
    "            action = self.make_action(state)  \n",
    "            \n",
    "            # Проигрывание одного эпизода до финального состояния            \n",
    "            while not (done or truncated): \n",
    "                # Выполняем шаг в среде                 \n",
    "                next_state, rew, done, truncated, _ = self.env.step(action)  \n",
    "                # Выполняем следующее действие  \n",
    "                next_action = self.make_action(next_state)  \n",
    "                    \n",
    "                # Правило обновления Q для SARSA                 \n",
    "                self.Q[state][action] = self.Q[state][action] + self.lr * (rew + self.gamma * self.Q[next_state][next_action] - self.Q[state][action]) \n",
    "\n",
    "                # Следующее состояние считаем текущим                 \n",
    "                state = next_state                 \n",
    "                action = next_action                 \n",
    "                # Суммарная награда за эпизод                 \n",
    "                tot_rew += rew                 \n",
    "                if (done or truncated): \n",
    "                    self.episodes_reward.append(tot_rew) \n",
    " "
   ]
  },
  {
   "cell_type": "code",
   "execution_count": 5,
   "metadata": {},
   "outputs": [
    {
     "name": "stderr",
     "output_type": "stream",
     "text": [
      "100%|██████████| 20000/20000 [00:10<00:00, 1914.90it/s]\n"
     ]
    },
    {
     "name": "stdout",
     "output_type": "stream",
     "text": [
      "Вывод Q-матрицы для алгоритма  SARSA\n",
      "[[ -11.47885839  -11.43919449  -11.45019886  -11.44349111]\n",
      " [ -10.96227877  -10.86747106  -10.87185947  -10.90782833]\n",
      " [ -10.30553265  -10.21293064  -10.21859028  -10.28419446]\n",
      " [  -9.55700692   -9.50572394   -9.51060605   -9.66320622]\n",
      " [  -8.84814336   -8.77190254   -8.7805193    -8.79112299]\n",
      " [  -8.12074202   -8.01573448   -8.02679438   -8.03269718]\n",
      " [  -7.23905519   -7.23789869   -7.23852849   -7.32208829]\n",
      " [  -6.62527679   -6.43664116   -6.43785801   -6.45965085]\n",
      " [  -5.6251431    -5.60897331   -5.82118265   -5.69412161]\n",
      " [  -4.89343899   -4.74079869   -4.8696534    -4.86148421]\n",
      " [  -3.9639407    -3.84148481   -3.94036445   -4.40092142]\n",
      " [  -3.19073312   -3.12344654   -2.92358782   -3.33534239]\n",
      " [ -11.99038268  -10.96346241  -12.42575272  -11.68688347]\n",
      " [ -11.42850414  -10.27272232  -11.64501976  -11.78264399]\n",
      " [ -10.87091552   -9.56244238  -10.95844934  -11.06696657]\n",
      " [ -10.1387628    -8.83084413  -10.27831888  -10.41403858]\n",
      " [  -9.4894403    -8.07412463   -9.07607595   -9.69787898]\n",
      " [  -8.7438444    -7.28508304   -8.55428185   -8.97580247]\n",
      " [  -7.99012961   -6.46045895   -8.02566601   -8.20114224]\n",
      " [  -7.20625231   -5.6149838    -7.22767003   -7.44083208]\n",
      " [  -6.41581173   -4.76992888   -6.43196188   -6.61269723]\n",
      " [  -5.59340252   -3.90645276   -4.35105835   -5.79689211]\n",
      " [  -4.71781733   -2.97349219   -3.90105694   -4.96519948]\n",
      " [  -3.79966936   -2.91133433   -1.9841197    -4.0158366 ]\n",
      " [ -11.63673608  -11.83457513  -13.08531369  -12.3255889 ]\n",
      " [ -11.00588858  -11.89436085  -55.95482654  -11.23236175]\n",
      " [ -10.39614501  -10.28617989  -29.1444125   -10.28985489]\n",
      " [  -9.57212761   -9.81860255  -19.18912784   -9.7092643 ]\n",
      " [  -8.51952988   -8.51323356  -36.73325587   -8.54176761]\n",
      " [  -7.94817373   -7.95177006  -19.39672405   -7.9627179 ]\n",
      " [  -7.24179094   -7.24002954  -20.29561849   -7.26837399]\n",
      " [  -6.45276804   -6.44012584  -28.37033035   -6.57031672]\n",
      " [  -5.60954055   -6.8895763   -10.14766709   -5.91427618]\n",
      " [  -4.68880517   -3.09477773  -36.96967876   -4.84132064]\n",
      " [  -2.54216953   -1.97257593  -45.06882621   -2.33966027]\n",
      " [  -3.07621587   -1.96744963   -1.           -2.91358006]\n",
      " [ -12.29529653 -111.44506027  -12.95656831  -12.96403585]\n",
      " [   0.            0.            0.            0.        ]\n",
      " [   0.            0.            0.            0.        ]\n",
      " [   0.            0.            0.            0.        ]\n",
      " [   0.            0.            0.            0.        ]\n",
      " [   0.            0.            0.            0.        ]\n",
      " [   0.            0.            0.            0.        ]\n",
      " [   0.            0.            0.            0.        ]\n",
      " [   0.            0.            0.            0.        ]\n",
      " [   0.            0.            0.            0.        ]\n",
      " [   0.            0.            0.            0.        ]\n",
      " [   0.            0.            0.            0.        ]]\n"
     ]
    },
    {
     "data": {
      "image/png": "[encoded data removed]",
      "text/plain": [
       "<Figure size 1500x1000 with 1 Axes>"
      ]
     },
     "metadata": {},
     "output_type": "display_data"
    },
    {
     "ename": "",
     "evalue": "",
     "output_type": "error",
     "traceback": [
      "\u001b[1;31mThe Kernel crashed while executing code in the the current cell or a previous cell. Please review the code in the cell(s) to identify a possible cause of the failure. Click <a href='https://aka.ms/vscodeJupyterKernelCrash'>here</a> for more info. View Jupyter <a href='command:jupyter.viewOutput'>log</a> for further details."
     ]
    }
   ],
   "source": [
    "def play_agent(agent): \n",
    "    ''' \n",
    "    Проигрывание сессии для обученного агента \n",
    "    ''' \n",
    "    env2 = gym.make('CliffWalking-v0', render_mode='human')      \n",
    "    state = env2.reset()[0]     \n",
    "    done = False     \n",
    "    while not done: \n",
    "        action = agent.greedy(state)         \n",
    "        next_state, reward, terminated, truncated, _ = env2.step(action)        \n",
    "        env2.render()         \n",
    "        state = next_state         \n",
    "        if terminated or truncated: \n",
    "            done = True \n",
    " \n",
    " \n",
    "def run_sarsa(): \n",
    "    env = gym.make('CliffWalking-v0')      \n",
    "    agent = SARSA_Agent(env)     \n",
    "    agent.learn()     \n",
    "    agent.print_q()     \n",
    "    agent.draw_episodes_reward()     \n",
    "    play_agent(agent) \n",
    " \n",
    "def main(): \n",
    "    run_sarsa()     \n",
    " \n",
    "if __name__ == '__main__':     \n",
    "    main() "
   ]
  },
  {
   "attachments": {},
   "cell_type": "markdown",
   "metadata": {},
   "source": [
    "## Итог\n",
    "\n",
    "В результате подбора гиперпараметров лучшими значеними оказались:\n",
    "\n",
    "    self, env, eps=0.015, lr=0.1, gamma=0.97, num_episodes=20000\n",
    "\n",
    "При этом при уменьшении eps стратегия агенда приближалась к максимальной (к движению по краю обрыва)."
   ]
  }
 ],
 "metadata": {
  "kernelspec": {
   "display_name": "Python 3",
   "language": "python",
   "name": "python3"
  },
  "language_info": {
   "codemirror_mode": {
    "name": "ipython",
    "version": 3
   },
   "file_extension": ".py",
   "mimetype": "text/x-python",
   "name": "python",
   "nbconvert_exporter": "python",
   "pygments_lexer": "ipython3",
   "version": "3.10.6"
  },
  "orig_nbformat": 4
 },
 "nbformat": 4,
 "nbformat_minor": 2
}
