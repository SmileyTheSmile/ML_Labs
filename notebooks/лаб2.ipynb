{
 "cells": [
  {
   "attachments": {},
   "cell_type": "markdown",
   "metadata": {},
   "source": [
    "# Лабораторная работа №2\n",
    "Датасет: результаты студентов на экзаменах по математике"
   ]
  },
  {
   "cell_type": "code",
   "execution_count": 22,
   "metadata": {},
   "outputs": [],
   "source": [
    "import numpy as np\n",
    "from sklearn.preprocessing import LabelEncoder\n",
    "import pandas as pd\n",
    "import os\n",
    "from pathlib import Path\n",
    "import matplotlib.pyplot as plt\n",
    "from sklearn.impute import MissingIndicator\n",
    "from sklearn.impute import SimpleImputer"
   ]
  },
  {
   "cell_type": "code",
   "execution_count": 28,
   "metadata": {},
   "outputs": [
    {
     "name": "stdout",
     "output_type": "stream",
     "text": [
      "     gender race/ethnicity parental level of education         lunch  \\\n",
      "0    female        group D                some college      standard   \n",
      "1      male        group D          associate's degree      standard   \n",
      "2    female        group D                some college  free/reduced   \n",
      "3      male        group B                some college  free/reduced   \n",
      "4    female        group D          associate's degree      standard   \n",
      "..      ...            ...                         ...           ...   \n",
      "995    male        group C                some college      standard   \n",
      "996    male        group C                some college      standard   \n",
      "997  female        group A                 high school      standard   \n",
      "998    male        group E                 high school      standard   \n",
      "999    male        group D                 high school      standard   \n",
      "\n",
      "    test preparation course  math score  reading score  writing score  \n",
      "0                 completed          59             70             78  \n",
      "1                      none          96             93             87  \n",
      "2                      none          57             76             77  \n",
      "3                      none          70             70             63  \n",
      "4                      none          83             85             86  \n",
      "..                      ...         ...            ...            ...  \n",
      "995                    none          77             77             71  \n",
      "996                    none          80             66             66  \n",
      "997               completed          67             86             86  \n",
      "998                    none          80             72             62  \n",
      "999                    none          58             47             45  \n",
      "\n",
      "[1000 rows x 8 columns]\n"
     ]
    }
   ],
   "source": [
    "file_name = 'data1.csv'\n",
    "file_path = f'{Path(os.getcwd()).parent}//data//{file_name}'\n",
    "data = pd.read_csv(file_path, delimiter=',')\n",
    "\n",
    "print(data)"
   ]
  },
  {
   "attachments": {},
   "cell_type": "markdown",
   "metadata": {},
   "source": [
    "## Задание 1\n",
    "Устранение пропусков в данных;"
   ]
  },
  {
   "cell_type": "code",
   "execution_count": 29,
   "metadata": {},
   "outputs": [
    {
     "name": "stdout",
     "output_type": "stream",
     "text": [
      "[]\n",
      "[]\n"
     ]
    }
   ],
   "source": [
    "def impute_column(dataset, column, strategy_param, fill_value_param=None):\n",
    "    temp_data = dataset[[column]].values\n",
    "    size = temp_data.shape[0]\n",
    "    \n",
    "    indicator = MissingIndicator()\n",
    "    mask_missing_values_only = indicator.fit_transform(temp_data)\n",
    "    \n",
    "    imputer = SimpleImputer(strategy=strategy_param, \n",
    "                            fill_value=fill_value_param)\n",
    "    all_data = imputer.fit_transform(temp_data)\n",
    "    \n",
    "    missed_data = temp_data[mask_missing_values_only]\n",
    "    filled_data = all_data[mask_missing_values_only]\n",
    "    \n",
    "    return all_data.reshape((size,)), filled_data, missed_data\n",
    "\n",
    "all_data, filled_data, missed_data = impute_column(data, 'math score', 'mean')\n",
    "\n",
    "print(filled_data)\n",
    "print(missed_data)"
   ]
  },
  {
   "attachments": {},
   "cell_type": "markdown",
   "metadata": {},
   "source": [
    "## Задание 2\n",
    "Кодирование категориальных признаков;"
   ]
  },
  {
   "cell_type": "code",
   "execution_count": 30,
   "metadata": {},
   "outputs": [
    {
     "name": "stdout",
     "output_type": "stream",
     "text": [
      "['some college' \"associate's degree\" 'some high school'\n",
      " \"bachelor's degree\" \"master's degree\" 'high school']\n",
      "[0 1 2 3 4 5]\n"
     ]
    }
   ],
   "source": [
    "le = LabelEncoder()\n",
    "cat_enc_le = le.fit_transform(data['parental level of education'])\n",
    "\n",
    "print(data['parental level of education'].unique())\n",
    "print(np.unique(cat_enc_le))"
   ]
  },
  {
   "attachments": {},
   "cell_type": "markdown",
   "metadata": {},
   "source": [
    "## Задание 3\n",
    "Нормализация числовых признаков."
   ]
  },
  {
   "cell_type": "code",
   "execution_count": 31,
   "metadata": {},
   "outputs": [
    {
     "data": {
      "text/plain": [
       "{'bodies': [<matplotlib.collections.PolyCollection at 0x7fd78072a9b0>,\n",
       "  <matplotlib.collections.PolyCollection at 0x7fd78072a8f0>],\n",
       " 'cmaxes': <matplotlib.collections.LineCollection at 0x7fd7801152a0>,\n",
       " 'cmins': <matplotlib.collections.LineCollection at 0x7fd78024c160>,\n",
       " 'cbars': <matplotlib.collections.LineCollection at 0x7fd78024c5b0>}"
      ]
     },
     "execution_count": 31,
     "metadata": {},
     "output_type": "execute_result"
    },
    {
     "data": {
      "image/png": "[encoded data removed]",
      "text/plain": [
       "<Figure size 640x480 with 1 Axes>"
      ]
     },
     "metadata": {},
     "output_type": "display_data"
    }
   ],
   "source": [
    "normalized_data = np.log(data['math score'])\n",
    "\n",
    "plt.violinplot([data[\"math score\"],\n",
    "                normalized_data,\n",
    "                ])"
   ]
  }
 ],
 "metadata": {
  "kernelspec": {
   "display_name": "Python 3",
   "language": "python",
   "name": "python3"
  },
  "language_info": {
   "codemirror_mode": {
    "name": "ipython",
    "version": 3
   },
   "file_extension": ".py",
   "mimetype": "text/x-python",
   "name": "python",
   "nbconvert_exporter": "python",
   "pygments_lexer": "ipython3",
   "version": "3.10.6"
  },
  "orig_nbformat": 4
 },
 "nbformat": 4,
 "nbformat_minor": 2
}
