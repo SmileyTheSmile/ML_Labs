{
 "cells": [
  {
   "attachments": {},
   "cell_type": "markdown",
   "metadata": {},
   "source": [
    "# Лабораторная работа №4"
   ]
  },
  {
   "cell_type": "code",
   "execution_count": 1,
   "metadata": {},
   "outputs": [
    {
     "name": "stdout",
     "output_type": "stream",
     "text": [
      "Defaulting to user installation because normal site-packages is not writeable\n",
      "Requirement already satisfied: gymnasium in /home/dan/.local/lib/python3.10/site-packages (0.28.1)\n",
      "Requirement already satisfied: numpy>=1.21.0 in /home/dan/.local/lib/python3.10/site-packages (from gymnasium) (1.24.3)\n",
      "Requirement already satisfied: jax-jumpy>=1.0.0 in /home/dan/.local/lib/python3.10/site-packages (from gymnasium) (1.0.0)\n",
      "Requirement already satisfied: cloudpickle>=1.2.0 in /home/dan/.local/lib/python3.10/site-packages (from gymnasium) (2.2.1)\n",
      "Requirement already satisfied: typing-extensions>=4.3.0 in /home/dan/.local/lib/python3.10/site-packages (from gymnasium) (4.5.0)\n",
      "Requirement already satisfied: farama-notifications>=0.0.1 in /home/dan/.local/lib/python3.10/site-packages (from gymnasium) (0.0.4)\n"
     ]
    }
   ],
   "source": [
    "! pip install gymnasium"
   ]
  },
  {
   "cell_type": "code",
   "execution_count": 2,
   "metadata": {},
   "outputs": [],
   "source": [
    "import gymnasium as gym\n",
    "import numpy as np\n",
    "from pprint import pprint"
   ]
  },
  {
   "attachments": {},
   "cell_type": "markdown",
   "metadata": {},
   "source": [
    "### Класс, эмулирующий работу агента"
   ]
  },
  {
   "cell_type": "code",
   "execution_count": 3,
   "metadata": {},
   "outputs": [],
   "source": [
    "class PolicyIterationAgent:\n",
    "    def __init__(self, env):\n",
    "        self.env = env\n",
    "        # Пространство состояний\n",
    "        self.observation_dim = 4 * 12\n",
    "        # Массив действий в соответствии с документацией\n",
    "        self.actions_variants = np.array([0, 1, 2, 3])\n",
    "        # Задание стратегии (политики)\n",
    "        # Карта 4х4 и 4 возможных действия \n",
    "        self.policy_probs = np.full((self.observation_dim, len(self.actions_variants)), 0.25)\n",
    "        # Начальные значения для v(s)\n",
    "        self.state_values = np.zeros(shape=(self.observation_dim))\n",
    "        # Начальные значения параметров\n",
    "        self.maxNumberOfIterations = 1000\n",
    "        self.theta = 1e-6\n",
    "        self.gamma = 0.99\n",
    "\n",
    "\n",
    "    def print_policy(self):\n",
    "        '''\n",
    "        Вывод матриц стратегии\n",
    "        '''\n",
    "        print('Стратегия:')\n",
    "        pprint(self.policy_probs)\n",
    "\n",
    "\n",
    "    def policy_evaluation(self):\n",
    "        '''\n",
    "        Оценивание стратегии \n",
    "        '''\n",
    "        # Предыдущее значение функции ценности\n",
    "        valueFunctionVector = self.state_values\n",
    "        for _ in range(self.maxNumberOfIterations):\n",
    "            # Новое значение функции ценности\n",
    "            valueFunctionVectorNextIteration = np.zeros(shape=(self.observation_dim))\n",
    "            \n",
    "            # Цикл по состояниям\n",
    "            for state in range(self.observation_dim):\n",
    "                # Вероятности действий\n",
    "                action_probabilities = self.policy_probs[state]\n",
    "                \n",
    "                # Цикл по действиям\n",
    "                outerSum = 0\n",
    "                for action, prob in enumerate(action_probabilities):\n",
    "                    innerSum = 0\n",
    "                    # Цикл по вероятностям действий\n",
    "                    for probability, next_state, reward, isTerminalState in self.env.P[state][action]:\n",
    "                        innerSum += (probability * (reward + self.gamma * self.state_values[next_state]))\n",
    "                        \n",
    "                    outerSum += (self.policy_probs[state][action] * innerSum)\n",
    "                    \n",
    "                valueFunctionVectorNextIteration[state] = outerSum\n",
    "                \n",
    "            if np.max(np.abs(valueFunctionVectorNextIteration - valueFunctionVector)) < self.theta:\n",
    "                # Проверка сходимости алгоритма\n",
    "                valueFunctionVector = valueFunctionVectorNextIteration\n",
    "                break\n",
    "            \n",
    "            valueFunctionVector = valueFunctionVectorNextIteration\n",
    "            \n",
    "        return valueFunctionVector               \n",
    "\n",
    "\n",
    "    def policy_improvement(self):\n",
    "        '''\n",
    "        Улучшение стратегии \n",
    "        '''\n",
    "        qvaluesMatrix = np.zeros((self.observation_dim, len(self.actions_variants)))\n",
    "        improvedPolicy = np.zeros((self.observation_dim, len(self.actions_variants)))\n",
    "        \n",
    "        # Цикл по состояниям\n",
    "        for state in range(self.observation_dim):\n",
    "            for action in range(len(self.actions_variants)):\n",
    "                for probability, next_state, reward, isTerminalState in self.env.P[state][action]:\n",
    "                    qvaluesMatrix[state,action] += probability * (reward + self.gamma * self.state_values[next_state])\n",
    "                \n",
    "            # Находим лучшие индексы\n",
    "            bestActionIndex = np.where(qvaluesMatrix[state,:] == np.max(qvaluesMatrix[state,:]))\n",
    "            # Обновление стратегии\n",
    "            improvedPolicy[state, bestActionIndex] = 1/np.size(bestActionIndex)\n",
    "            \n",
    "        return improvedPolicy    \n",
    "\n",
    "\n",
    "    def policy_iteration(self, cnt):\n",
    "        '''\n",
    "        Основная реализация алгоритма\n",
    "        '''\n",
    "        policy_stable = False\n",
    "        for i in range(1, cnt+1):\n",
    "            self.state_values = self.policy_evaluation()\n",
    "            self.policy_probs = self.policy_improvement()\n",
    "        print(f'Алгоритм выполнился за {i} шагов.')"
   ]
  },
  {
   "cell_type": "code",
   "execution_count": 4,
   "metadata": {},
   "outputs": [],
   "source": [
    "def play_agent(agent):\n",
    "    env2 = gym.make('CliffWalking-v0', render_mode='human')\n",
    "    state = env2.reset()[0]\n",
    "    done = False\n",
    "    while not done:\n",
    "        p = agent.policy_probs[state]\n",
    "        action = np.random.choice(len(agent.actions_variants), p=p) if isinstance(p, np.ndarray) else p\n",
    "        next_state, reward, terminated, truncated, _ = env2.step(action)\n",
    "        env2.render()\n",
    "        state = next_state\n",
    "        if terminated or truncated:\n",
    "            done = True"
   ]
  },
  {
   "attachments": {},
   "cell_type": "markdown",
   "metadata": {},
   "source": [
    "### Pygame"
   ]
  },
  {
   "cell_type": "code",
   "execution_count": 5,
   "metadata": {},
   "outputs": [
    {
     "name": "stdout",
     "output_type": "stream",
     "text": [
      "Defaulting to user installation because normal site-packages is not writeable\n",
      "Requirement already satisfied: pygame in /home/dan/.local/lib/python3.10/site-packages (2.4.0)\n"
     ]
    }
   ],
   "source": [
    "! pip install pygame "
   ]
  },
  {
   "cell_type": "code",
   "execution_count": 6,
   "metadata": {},
   "outputs": [
    {
     "name": "stdout",
     "output_type": "stream",
     "text": [
      "Алгоритм выполнился за 1000 шагов.\n",
      "Стратегия:\n",
      "array([[0.        , 0.5       , 0.5       , 0.        ],\n",
      "       [0.33333333, 0.33333333, 0.33333333, 0.        ],\n",
      "       [0.        , 0.        , 1.        , 0.        ],\n",
      "       [0.        , 0.        , 1.        , 0.        ],\n",
      "       [0.        , 0.        , 1.        , 0.        ],\n",
      "       [0.        , 0.        , 1.        , 0.        ],\n",
      "       [0.        , 0.        , 1.        , 0.        ],\n",
      "       [0.        , 0.        , 1.        , 0.        ],\n",
      "       [0.        , 0.        , 1.        , 0.        ],\n",
      "       [0.        , 0.        , 1.        , 0.        ],\n",
      "       [0.33333333, 0.        , 0.33333333, 0.33333333],\n",
      "       [0.        , 0.        , 0.5       , 0.5       ],\n",
      "       [0.        , 0.        , 1.        , 0.        ],\n",
      "       [0.        , 0.5       , 0.5       , 0.        ],\n",
      "       [0.        , 0.5       , 0.5       , 0.        ],\n",
      "       [0.        , 0.33333333, 0.33333333, 0.33333333],\n",
      "       [0.        , 0.33333333, 0.33333333, 0.33333333],\n",
      "       [0.        , 0.33333333, 0.33333333, 0.33333333],\n",
      "       [0.        , 0.33333333, 0.33333333, 0.33333333],\n",
      "       [0.        , 0.33333333, 0.33333333, 0.33333333],\n",
      "       [0.        , 0.33333333, 0.33333333, 0.33333333],\n",
      "       [0.        , 0.        , 0.5       , 0.5       ],\n",
      "       [0.        , 0.        , 0.5       , 0.5       ],\n",
      "       [0.        , 0.        , 1.        , 0.        ],\n",
      "       [0.        , 0.33333333, 0.33333333, 0.33333333],\n",
      "       [0.        , 0.5       , 0.        , 0.5       ],\n",
      "       [0.33333333, 0.33333333, 0.        , 0.33333333],\n",
      "       [0.33333333, 0.33333333, 0.        , 0.33333333],\n",
      "       [0.33333333, 0.33333333, 0.        , 0.33333333],\n",
      "       [0.33333333, 0.33333333, 0.        , 0.33333333],\n",
      "       [0.33333333, 0.33333333, 0.        , 0.33333333],\n",
      "       [0.33333333, 0.33333333, 0.        , 0.33333333],\n",
      "       [0.33333333, 0.33333333, 0.        , 0.33333333],\n",
      "       [0.33333333, 0.33333333, 0.        , 0.33333333],\n",
      "       [0.        , 0.5       , 0.        , 0.5       ],\n",
      "       [0.        , 0.33333333, 0.33333333, 0.33333333],\n",
      "       [0.33333333, 0.        , 0.33333333, 0.33333333],\n",
      "       [0.5       , 0.        , 0.        , 0.5       ],\n",
      "       [1.        , 0.        , 0.        , 0.        ],\n",
      "       [1.        , 0.        , 0.        , 0.        ],\n",
      "       [1.        , 0.        , 0.        , 0.        ],\n",
      "       [1.        , 0.        , 0.        , 0.        ],\n",
      "       [1.        , 0.        , 0.        , 0.        ],\n",
      "       [1.        , 0.        , 0.        , 0.        ],\n",
      "       [1.        , 0.        , 0.        , 0.        ],\n",
      "       [1.        , 0.        , 0.        , 0.        ],\n",
      "       [0.5       , 0.5       , 0.        , 0.        ],\n",
      "       [0.33333333, 0.33333333, 0.33333333, 0.        ]])\n"
     ]
    },
    {
     "ename": "",
     "evalue": "",
     "output_type": "error",
     "traceback": [
      "\u001b[1;31mThe Kernel crashed while executing code in the the current cell or a previous cell. Please review the code in the cell(s) to identify a possible cause of the failure. Click <a href='https://aka.ms/vscodeJupyterKernelCrash'>here</a> for more info. View Jupyter <a href='command:jupyter.viewOutput'>log</a> for further details."
     ]
    }
   ],
   "source": [
    "# Создание среды\n",
    "env = gym.make('CliffWalking-v0')\n",
    "env.reset()\n",
    "# Обучение агента\n",
    "agent = PolicyIterationAgent(env)\n",
    "agent.policy_iteration(1000)\n",
    "agent.print_policy()\n",
    "# Проигрывание сцены для обученного агента\n",
    "play_agent(agent)"
   ]
  }
 ],
 "metadata": {
  "kernelspec": {
   "display_name": "Python 3",
   "language": "python",
   "name": "python3"
  },
  "language_info": {
   "codemirror_mode": {
    "name": "ipython",
    "version": 3
   },
   "file_extension": ".py",
   "mimetype": "text/x-python",
   "name": "python",
   "nbconvert_exporter": "python",
   "pygments_lexer": "ipython3",
   "version": "3.10.6"
  }
 },
 "nbformat": 4,
 "nbformat_minor": 4
}
