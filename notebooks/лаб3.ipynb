{
 "cells": [
  {
   "attachments": {},
   "cell_type": "markdown",
   "metadata": {},
   "source": [
    "# Лабораторная работа №3\n",
    "Датасет: результаты студентов на экзаменах по математике"
   ]
  },
  {
   "cell_type": "code",
   "execution_count": 172,
   "metadata": {},
   "outputs": [],
   "source": [
    "import numpy as np\n",
    "from sklearn.preprocessing import LabelEncoder\n",
    "import pandas as pd\n",
    "import os\n",
    "from pathlib import Path\n",
    "import matplotlib.pyplot as plt\n",
    "from sklearn.preprocessing import StandardScaler\n",
    "from sklearn.preprocessing import MinMaxScaler\n",
    "import datetime as dt\n",
    "import sys"
   ]
  },
  {
   "cell_type": "code",
   "execution_count": 173,
   "metadata": {},
   "outputs": [
    {
     "name": "stdout",
     "output_type": "stream",
     "text": [
      "     gender race/ethnicity parental level of education         lunch   \n",
      "0    female        group D                some college      standard  \\\n",
      "1      male        group D          associate's degree      standard   \n",
      "2    female        group D                some college  free/reduced   \n",
      "3      male        group B                some college  free/reduced   \n",
      "4    female        group D          associate's degree      standard   \n",
      "..      ...            ...                         ...           ...   \n",
      "995    male        group C                some college      standard   \n",
      "996    male        group C                some college      standard   \n",
      "997  female        group A                 high school      standard   \n",
      "998    male        group E                 high school      standard   \n",
      "999    male        group D                 high school      standard   \n",
      "\n",
      "    test preparation course  math score  reading score  writing score  \n",
      "0                 completed          59             70             78  \n",
      "1                      none          96             93             87  \n",
      "2                      none          57             76             77  \n",
      "3                      none          70             70             63  \n",
      "4                      none          83             85             86  \n",
      "..                      ...         ...            ...            ...  \n",
      "995                    none          77             77             71  \n",
      "996                    none          80             66             66  \n",
      "997               completed          67             86             86  \n",
      "998                    none          80             72             62  \n",
      "999                    none          58             47             45  \n",
      "\n",
      "[1000 rows x 8 columns]\n"
     ]
    }
   ],
   "source": [
    "file_name = 'data1.csv'\n",
    "file_path = f'{Path(os.getcwd()).parent}//data//{file_name}'\n",
    "data = pd.read_csv(file_path, delimiter=',')\n",
    "\n",
    "print(data)"
   ]
  },
  {
   "attachments": {},
   "cell_type": "markdown",
   "metadata": {},
   "source": [
    "## Задание 1\n",
    "Масштабирование признаков (не менее чем тремя способами);"
   ]
  },
  {
   "attachments": {},
   "cell_type": "markdown",
   "metadata": {},
   "source": [
    "Удаление нечисловых параметров"
   ]
  },
  {
   "cell_type": "code",
   "execution_count": 174,
   "metadata": {},
   "outputs": [
    {
     "data": {
      "text/html": [
       "<div>\n",
       "<style scoped>\n",
       "    .dataframe tbody tr th:only-of-type {\n",
       "        vertical-align: middle;\n",
       "    }\n",
       "\n",
       "    .dataframe tbody tr th {\n",
       "        vertical-align: top;\n",
       "    }\n",
       "\n",
       "    .dataframe thead th {\n",
       "        text-align: right;\n",
       "    }\n",
       "</style>\n",
       "<table border=\"1\" class=\"dataframe\">\n",
       "  <thead>\n",
       "    <tr style=\"text-align: right;\">\n",
       "      <th></th>\n",
       "      <th>math score</th>\n",
       "      <th>reading score</th>\n",
       "      <th>writing score</th>\n",
       "    </tr>\n",
       "  </thead>\n",
       "  <tbody>\n",
       "    <tr>\n",
       "      <th>0</th>\n",
       "      <td>59</td>\n",
       "      <td>70</td>\n",
       "      <td>78</td>\n",
       "    </tr>\n",
       "    <tr>\n",
       "      <th>1</th>\n",
       "      <td>96</td>\n",
       "      <td>93</td>\n",
       "      <td>87</td>\n",
       "    </tr>\n",
       "    <tr>\n",
       "      <th>2</th>\n",
       "      <td>57</td>\n",
       "      <td>76</td>\n",
       "      <td>77</td>\n",
       "    </tr>\n",
       "    <tr>\n",
       "      <th>3</th>\n",
       "      <td>70</td>\n",
       "      <td>70</td>\n",
       "      <td>63</td>\n",
       "    </tr>\n",
       "    <tr>\n",
       "      <th>4</th>\n",
       "      <td>83</td>\n",
       "      <td>85</td>\n",
       "      <td>86</td>\n",
       "    </tr>\n",
       "    <tr>\n",
       "      <th>...</th>\n",
       "      <td>...</td>\n",
       "      <td>...</td>\n",
       "      <td>...</td>\n",
       "    </tr>\n",
       "    <tr>\n",
       "      <th>995</th>\n",
       "      <td>77</td>\n",
       "      <td>77</td>\n",
       "      <td>71</td>\n",
       "    </tr>\n",
       "    <tr>\n",
       "      <th>996</th>\n",
       "      <td>80</td>\n",
       "      <td>66</td>\n",
       "      <td>66</td>\n",
       "    </tr>\n",
       "    <tr>\n",
       "      <th>997</th>\n",
       "      <td>67</td>\n",
       "      <td>86</td>\n",
       "      <td>86</td>\n",
       "    </tr>\n",
       "    <tr>\n",
       "      <th>998</th>\n",
       "      <td>80</td>\n",
       "      <td>72</td>\n",
       "      <td>62</td>\n",
       "    </tr>\n",
       "    <tr>\n",
       "      <th>999</th>\n",
       "      <td>58</td>\n",
       "      <td>47</td>\n",
       "      <td>45</td>\n",
       "    </tr>\n",
       "  </tbody>\n",
       "</table>\n",
       "<p>1000 rows × 3 columns</p>\n",
       "</div>"
      ],
      "text/plain": [
       "     math score  reading score  writing score\n",
       "0            59             70             78\n",
       "1            96             93             87\n",
       "2            57             76             77\n",
       "3            70             70             63\n",
       "4            83             85             86\n",
       "..          ...            ...            ...\n",
       "995          77             77             71\n",
       "996          80             66             66\n",
       "997          67             86             86\n",
       "998          80             72             62\n",
       "999          58             47             45\n",
       "\n",
       "[1000 rows x 3 columns]"
      ]
     },
     "execution_count": 174,
     "metadata": {},
     "output_type": "execute_result"
    }
   ],
   "source": [
    "X_ALL = data.copy()\n",
    "X_ALL = X_ALL.drop('lunch', axis=1)\n",
    "X_ALL = X_ALL.drop('parental level of education', axis=1)\n",
    "X_ALL = X_ALL.drop('race/ethnicity', axis=1)\n",
    "X_ALL = X_ALL.drop('gender', axis=1)\n",
    "X_ALL = X_ALL.drop('test preparation course', axis=1)\n",
    "X_ALL"
   ]
  },
  {
   "cell_type": "code",
   "execution_count": 175,
   "metadata": {},
   "outputs": [],
   "source": [
    "def arr_to_df(arr_scaled):\n",
    "    res = pd.DataFrame(arr_scaled)\n",
    "    return res"
   ]
  },
  {
   "attachments": {},
   "cell_type": "markdown",
   "metadata": {},
   "source": [
    "Масштабирование данных на основе Z-оценки"
   ]
  },
  {
   "cell_type": "code",
   "execution_count": 176,
   "metadata": {},
   "outputs": [
    {
     "data": {
      "text/html": [
       "<div>\n",
       "<style scoped>\n",
       "    .dataframe tbody tr th:only-of-type {\n",
       "        vertical-align: middle;\n",
       "    }\n",
       "\n",
       "    .dataframe tbody tr th {\n",
       "        vertical-align: top;\n",
       "    }\n",
       "\n",
       "    .dataframe thead th {\n",
       "        text-align: right;\n",
       "    }\n",
       "</style>\n",
       "<table border=\"1\" class=\"dataframe\">\n",
       "  <thead>\n",
       "    <tr style=\"text-align: right;\">\n",
       "      <th></th>\n",
       "      <th>0</th>\n",
       "      <th>1</th>\n",
       "      <th>2</th>\n",
       "    </tr>\n",
       "  </thead>\n",
       "  <tbody>\n",
       "    <tr>\n",
       "      <th>0</th>\n",
       "      <td>-0.577987</td>\n",
       "      <td>-0.027092</td>\n",
       "      <td>0.589943</td>\n",
       "    </tr>\n",
       "    <tr>\n",
       "      <th>1</th>\n",
       "      <td>1.849426</td>\n",
       "      <td>1.604073</td>\n",
       "      <td>1.189208</td>\n",
       "    </tr>\n",
       "    <tr>\n",
       "      <th>2</th>\n",
       "      <td>-0.709198</td>\n",
       "      <td>0.398430</td>\n",
       "      <td>0.523358</td>\n",
       "    </tr>\n",
       "    <tr>\n",
       "      <th>3</th>\n",
       "      <td>0.143677</td>\n",
       "      <td>-0.027092</td>\n",
       "      <td>-0.408832</td>\n",
       "    </tr>\n",
       "    <tr>\n",
       "      <th>4</th>\n",
       "      <td>0.996551</td>\n",
       "      <td>1.036711</td>\n",
       "      <td>1.122623</td>\n",
       "    </tr>\n",
       "    <tr>\n",
       "      <th>...</th>\n",
       "      <td>...</td>\n",
       "      <td>...</td>\n",
       "      <td>...</td>\n",
       "    </tr>\n",
       "    <tr>\n",
       "      <th>995</th>\n",
       "      <td>0.602917</td>\n",
       "      <td>0.469350</td>\n",
       "      <td>0.123848</td>\n",
       "    </tr>\n",
       "    <tr>\n",
       "      <th>996</th>\n",
       "      <td>0.799734</td>\n",
       "      <td>-0.310772</td>\n",
       "      <td>-0.209077</td>\n",
       "    </tr>\n",
       "    <tr>\n",
       "      <th>997</th>\n",
       "      <td>-0.053141</td>\n",
       "      <td>1.107632</td>\n",
       "      <td>1.122623</td>\n",
       "    </tr>\n",
       "    <tr>\n",
       "      <th>998</th>\n",
       "      <td>0.799734</td>\n",
       "      <td>0.114749</td>\n",
       "      <td>-0.475417</td>\n",
       "    </tr>\n",
       "    <tr>\n",
       "      <th>999</th>\n",
       "      <td>-0.643592</td>\n",
       "      <td>-1.658256</td>\n",
       "      <td>-1.607361</td>\n",
       "    </tr>\n",
       "  </tbody>\n",
       "</table>\n",
       "<p>1000 rows × 3 columns</p>\n",
       "</div>"
      ],
      "text/plain": [
       "            0         1         2\n",
       "0   -0.577987 -0.027092  0.589943\n",
       "1    1.849426  1.604073  1.189208\n",
       "2   -0.709198  0.398430  0.523358\n",
       "3    0.143677 -0.027092 -0.408832\n",
       "4    0.996551  1.036711  1.122623\n",
       "..        ...       ...       ...\n",
       "995  0.602917  0.469350  0.123848\n",
       "996  0.799734 -0.310772 -0.209077\n",
       "997 -0.053141  1.107632  1.122623\n",
       "998  0.799734  0.114749 -0.475417\n",
       "999 -0.643592 -1.658256 -1.607361\n",
       "\n",
       "[1000 rows x 3 columns]"
      ]
     },
     "execution_count": 176,
     "metadata": {},
     "output_type": "execute_result"
    }
   ],
   "source": [
    "cs11 = StandardScaler()\n",
    "data_cs11_scaled_temp = cs11.fit_transform(X_ALL)\n",
    "# формируем DataFrame на основе массива\n",
    "data_cs11_scaled =  arr_to_df(data_cs11_scaled_temp)\n",
    "data_cs11_scaled"
   ]
  },
  {
   "attachments": {},
   "cell_type": "markdown",
   "metadata": {},
   "source": [
    "Масштабирование \"Mean Normalisation\""
   ]
  },
  {
   "cell_type": "code",
   "execution_count": 177,
   "metadata": {},
   "outputs": [],
   "source": [
    "class MeanNormalisation:\n",
    "    def fit(self, col, param_df):\n",
    "        self.means = col.mean(axis=0)\n",
    "        maxs = col.max(axis=0)\n",
    "        mins = col.min(axis=0)\n",
    "        self.ranges = maxs - mins\n",
    "\n",
    "    def transform(self, param_df):\n",
    "        param_df_scaled = (param_df - self.means) / self.ranges\n",
    "        return param_df_scaled\n",
    "    \n",
    "    def fit_transform(self, col, param_df):\n",
    "        self.fit(col, param_df)\n",
    "        return self.transform(param_df)"
   ]
  },
  {
   "cell_type": "code",
   "execution_count": 178,
   "metadata": {},
   "outputs": [
    {
     "data": {
      "text/html": [
       "<div>\n",
       "<style scoped>\n",
       "    .dataframe tbody tr th:only-of-type {\n",
       "        vertical-align: middle;\n",
       "    }\n",
       "\n",
       "    .dataframe tbody tr th {\n",
       "        vertical-align: top;\n",
       "    }\n",
       "\n",
       "    .dataframe thead th {\n",
       "        text-align: right;\n",
       "    }\n",
       "</style>\n",
       "<table border=\"1\" class=\"dataframe\">\n",
       "  <thead>\n",
       "    <tr style=\"text-align: right;\">\n",
       "      <th></th>\n",
       "      <th>math score</th>\n",
       "      <th>reading score</th>\n",
       "      <th>writing score</th>\n",
       "    </tr>\n",
       "  </thead>\n",
       "  <tbody>\n",
       "    <tr>\n",
       "      <th>count</th>\n",
       "      <td>1.000000e+03</td>\n",
       "      <td>1000.000000</td>\n",
       "      <td>1000.000000</td>\n",
       "    </tr>\n",
       "    <tr>\n",
       "      <th>mean</th>\n",
       "      <td>-2.664535e-17</td>\n",
       "      <td>0.030259</td>\n",
       "      <td>0.015647</td>\n",
       "    </tr>\n",
       "    <tr>\n",
       "      <th>std</th>\n",
       "      <td>1.794141e-01</td>\n",
       "      <td>0.165970</td>\n",
       "      <td>0.176775</td>\n",
       "    </tr>\n",
       "    <tr>\n",
       "      <th>min</th>\n",
       "      <td>-6.212941e-01</td>\n",
       "      <td>-0.503647</td>\n",
       "      <td>-0.621294</td>\n",
       "    </tr>\n",
       "    <tr>\n",
       "      <th>25%</th>\n",
       "      <td>-1.154118e-01</td>\n",
       "      <td>-0.080118</td>\n",
       "      <td>-0.103647</td>\n",
       "    </tr>\n",
       "    <tr>\n",
       "      <th>50%</th>\n",
       "      <td>2.235294e-03</td>\n",
       "      <td>0.031647</td>\n",
       "      <td>0.025765</td>\n",
       "    </tr>\n",
       "    <tr>\n",
       "      <th>75%</th>\n",
       "      <td>1.345882e-01</td>\n",
       "      <td>0.143412</td>\n",
       "      <td>0.143412</td>\n",
       "    </tr>\n",
       "    <tr>\n",
       "      <th>max</th>\n",
       "      <td>3.787059e-01</td>\n",
       "      <td>0.378706</td>\n",
       "      <td>0.378706</td>\n",
       "    </tr>\n",
       "  </tbody>\n",
       "</table>\n",
       "</div>"
      ],
      "text/plain": [
       "         math score  reading score  writing score\n",
       "count  1.000000e+03    1000.000000    1000.000000\n",
       "mean  -2.664535e-17       0.030259       0.015647\n",
       "std    1.794141e-01       0.165970       0.176775\n",
       "min   -6.212941e-01      -0.503647      -0.621294\n",
       "25%   -1.154118e-01      -0.080118      -0.103647\n",
       "50%    2.235294e-03       0.031647       0.025765\n",
       "75%    1.345882e-01       0.143412       0.143412\n",
       "max    3.787059e-01       0.378706       0.378706"
      ]
     },
     "execution_count": 178,
     "metadata": {},
     "output_type": "execute_result"
    }
   ],
   "source": [
    "sc21 = MeanNormalisation()\n",
    "data_cs21_scaled = sc21.fit_transform(data['math score'], X_ALL)\n",
    "data_cs21_scaled.describe()"
   ]
  },
  {
   "attachments": {},
   "cell_type": "markdown",
   "metadata": {},
   "source": [
    "MinMax-масштабирование"
   ]
  },
  {
   "cell_type": "code",
   "execution_count": 179,
   "metadata": {},
   "outputs": [
    {
     "data": {
      "text/html": [
       "<div>\n",
       "<style scoped>\n",
       "    .dataframe tbody tr th:only-of-type {\n",
       "        vertical-align: middle;\n",
       "    }\n",
       "\n",
       "    .dataframe tbody tr th {\n",
       "        vertical-align: top;\n",
       "    }\n",
       "\n",
       "    .dataframe thead th {\n",
       "        text-align: right;\n",
       "    }\n",
       "</style>\n",
       "<table border=\"1\" class=\"dataframe\">\n",
       "  <thead>\n",
       "    <tr style=\"text-align: right;\">\n",
       "      <th></th>\n",
       "      <th>0</th>\n",
       "      <th>1</th>\n",
       "      <th>2</th>\n",
       "    </tr>\n",
       "  </thead>\n",
       "  <tbody>\n",
       "    <tr>\n",
       "      <th>count</th>\n",
       "      <td>1000.000000</td>\n",
       "      <td>1000.000000</td>\n",
       "      <td>1000.000000</td>\n",
       "    </tr>\n",
       "    <tr>\n",
       "      <th>mean</th>\n",
       "      <td>0.621294</td>\n",
       "      <td>0.605093</td>\n",
       "      <td>0.636941</td>\n",
       "    </tr>\n",
       "    <tr>\n",
       "      <th>std</th>\n",
       "      <td>0.179414</td>\n",
       "      <td>0.188099</td>\n",
       "      <td>0.176775</td>\n",
       "    </tr>\n",
       "    <tr>\n",
       "      <th>min</th>\n",
       "      <td>0.000000</td>\n",
       "      <td>0.000000</td>\n",
       "      <td>0.000000</td>\n",
       "    </tr>\n",
       "    <tr>\n",
       "      <th>25%</th>\n",
       "      <td>0.505882</td>\n",
       "      <td>0.480000</td>\n",
       "      <td>0.517647</td>\n",
       "    </tr>\n",
       "    <tr>\n",
       "      <th>50%</th>\n",
       "      <td>0.623529</td>\n",
       "      <td>0.606667</td>\n",
       "      <td>0.647059</td>\n",
       "    </tr>\n",
       "    <tr>\n",
       "      <th>75%</th>\n",
       "      <td>0.755882</td>\n",
       "      <td>0.733333</td>\n",
       "      <td>0.764706</td>\n",
       "    </tr>\n",
       "    <tr>\n",
       "      <th>max</th>\n",
       "      <td>1.000000</td>\n",
       "      <td>1.000000</td>\n",
       "      <td>1.000000</td>\n",
       "    </tr>\n",
       "  </tbody>\n",
       "</table>\n",
       "</div>"
      ],
      "text/plain": [
       "                 0            1            2\n",
       "count  1000.000000  1000.000000  1000.000000\n",
       "mean      0.621294     0.605093     0.636941\n",
       "std       0.179414     0.188099     0.176775\n",
       "min       0.000000     0.000000     0.000000\n",
       "25%       0.505882     0.480000     0.517647\n",
       "50%       0.623529     0.606667     0.647059\n",
       "75%       0.755882     0.733333     0.764706\n",
       "max       1.000000     1.000000     1.000000"
      ]
     },
     "execution_count": 179,
     "metadata": {},
     "output_type": "execute_result"
    }
   ],
   "source": [
    "cs31 = MinMaxScaler()\n",
    "data_cs31_scaled_temp = cs31.fit_transform(X_ALL)\n",
    "data_cs31_scaled = arr_to_df(data_cs31_scaled_temp)\n",
    "data_cs31_scaled.describe()"
   ]
  },
  {
   "attachments": {},
   "cell_type": "markdown",
   "metadata": {},
   "source": [
    "## Задание 2\n",
    "Обработку выбросов для числовых признаков (по одному способу для удаления выбросов и для замены выбросов);"
   ]
  },
  {
   "cell_type": "code",
   "execution_count": 180,
   "metadata": {},
   "outputs": [
    {
     "data": {
      "text/plain": [
       "{'bodies': [<matplotlib.collections.PolyCollection at 0x7f661c488940>,\n",
       "  <matplotlib.collections.PolyCollection at 0x7f661c488c70>],\n",
       " 'cmaxes': <matplotlib.collections.LineCollection at 0x7f661c5dfc10>,\n",
       " 'cmins': <matplotlib.collections.LineCollection at 0x7f661c489270>,\n",
       " 'cbars': <matplotlib.collections.LineCollection at 0x7f661c489600>}"
      ]
     },
     "execution_count": 180,
     "metadata": {},
     "output_type": "execute_result"
    },
    {
     "data": {
      "image/png": "[encoded data removed]",
      "text/plain": [
       "<Figure size 640x480 with 1 Axes>"
      ]
     },
     "metadata": {},
     "output_type": "display_data"
    }
   ],
   "source": [
    "quantile_05 = data[\"math score\"].quantile(0.05)\n",
    "quantile_95 = data[\"math score\"].quantile(0.95)\n",
    "\n",
    "outliers_temp = np.where(data[\"math score\"] < quantile_05, True, \n",
    "                np.where(data[\"math score\"] > quantile_95, True, False)\n",
    "                )\n",
    "data_trimmed = data[\"math score\"].loc[~(outliers_temp)]  \n",
    "        \n",
    "plt.violinplot([data[\"math score\"],\n",
    "                data_trimmed,\n",
    "                ])"
   ]
  },
  {
   "cell_type": "code",
   "execution_count": 181,
   "metadata": {},
   "outputs": [
    {
     "data": {
      "text/plain": [
       "{'bodies': [<matplotlib.collections.PolyCollection at 0x7f661c7f17b0>,\n",
       "  <matplotlib.collections.PolyCollection at 0x7f661c4ef7c0>],\n",
       " 'cmaxes': <matplotlib.collections.LineCollection at 0x7f661c446320>,\n",
       " 'cmins': <matplotlib.collections.LineCollection at 0x7f661c4efdc0>,\n",
       " 'cbars': <matplotlib.collections.LineCollection at 0x7f661c518190>}"
      ]
     },
     "execution_count": 181,
     "metadata": {},
     "output_type": "execute_result"
    },
    {
     "data": {
      "image/png": "[encoded data removed]",
      "text/plain": [
       "<Figure size 640x480 with 1 Axes>"
      ]
     },
     "metadata": {},
     "output_type": "display_data"
    }
   ],
   "source": [
    "quantile_05 = data[\"math score\"].quantile(0.05)\n",
    "quantile_95 = data[\"math score\"].quantile(0.95)\n",
    "\n",
    "math_score_old = data[\"math score\"]\n",
    "data[\"math score\"] = np.where(data[\"math score\"] > quantile_95, quantile_95, \n",
    "                     np.where(data[\"math score\"] < quantile_05, quantile_05, data[\"math score\"]))\n",
    "        \n",
    "plt.violinplot([data[\"math score\"],\n",
    "                math_score_old,\n",
    "                ])"
   ]
  },
  {
   "attachments": {},
   "cell_type": "markdown",
   "metadata": {},
   "source": [
    "## Задание 3\n",
    "Обработку по крайней мере одного нестандартного признака (который не является числовым или категориальным);"
   ]
  },
  {
   "cell_type": "code",
   "execution_count": 182,
   "metadata": {},
   "outputs": [
    {
     "name": "stdout",
     "output_type": "stream",
     "text": [
      "0      738646\n",
      "1      738646\n",
      "2      738646\n",
      "3      738646\n",
      "4      738646\n",
      "        ...  \n",
      "995    738646\n",
      "996    738646\n",
      "997    738646\n",
      "998    738646\n",
      "999    738646\n",
      "Name: date, Length: 1000, dtype: int64\n"
     ]
    }
   ],
   "source": [
    "X_ALL['date'] = '05.06.2023'\n",
    "\n",
    "X_ALL['date'] = pd.to_datetime(X_ALL['date']).map(dt.datetime.toordinal)\n",
    "\n",
    "print(X_ALL['date'])\n",
    "X_ALL = X_ALL.drop('date', axis=1)"
   ]
  },
  {
   "attachments": {},
   "cell_type": "markdown",
   "metadata": {},
   "source": [
    "## Задание 4\n",
    "Отбор признаков:\n",
    "    один метод из группы методов фильтрации (filter methods);\n",
    "    один метод из группы методов обертывания (wrapper methods);\n",
    "    один метод из группы методов вложений (embedded methods).\n"
   ]
  },
  {
   "cell_type": "code",
   "execution_count": 183,
   "metadata": {},
   "outputs": [],
   "source": [
    "from sklearn.feature_selection import VarianceThreshold\n",
    "from sklearn.feature_selection import mutual_info_classif, mutual_info_regression\n",
    "from sklearn.feature_selection import SelectKBest, SelectPercentile\n",
    "import seaborn as sns"
   ]
  },
  {
   "cell_type": "code",
   "execution_count": 184,
   "metadata": {},
   "outputs": [
    {
     "data": {
      "text/plain": [
       "<Axes: >"
      ]
     },
     "execution_count": 184,
     "metadata": {},
     "output_type": "execute_result"
    },
    {
     "data": {
      "image/png": "[encoded data removed]",
      "text/plain": [
       "<Figure size 2000x2000 with 2 Axes>"
      ]
     },
     "metadata": {},
     "output_type": "display_data"
    }
   ],
   "source": [
    "np.set_printoptions(threshold=sys.maxsize)\n",
    "\n",
    "corrmat = X_ALL.corr()    \n",
    "plt.figure(figsize=(20,20))\n",
    "sns.heatmap(corrmat, annot=True, fmt='.3f', cmap=\"vlag_r\")"
   ]
  },
  {
   "cell_type": "code",
   "execution_count": 185,
   "metadata": {},
   "outputs": [],
   "source": [
    "def corr_groups(cr):\n",
    "    grouped_feature_list = []\n",
    "    correlated_groups = []\n",
    "\n",
    "    for feature in cr['f1'].unique():\n",
    "        if feature not in grouped_feature_list:\n",
    "            # находим коррелирующие признаки\n",
    "            correlated_block = cr[cr['f1'] == feature]\n",
    "            cur_dups = list(correlated_block['f2'].unique()) + [feature]\n",
    "            grouped_feature_list = grouped_feature_list + cur_dups\n",
    "            correlated_groups.append(cur_dups)\n",
    "    return correlated_groups"
   ]
  },
  {
   "cell_type": "code",
   "execution_count": null,
   "metadata": {},
   "outputs": [],
   "source": [
    "corr_groups(make_corr_df(X_ALL))"
   ]
  },
  {
   "cell_type": "code",
   "execution_count": null,
   "metadata": {},
   "outputs": [],
   "source": [
    "data_y = data['RainTomorrow']\n",
    "data_X = data.drop(['RainTomorrow'], axis = 1)"
   ]
  },
  {
   "cell_type": "code",
   "execution_count": null,
   "metadata": {},
   "outputs": [],
   "source": [
    "data = data.drop(['MaxTemp'], axis = 1)\n",
    "data = data.drop(['Temp9am'], axis = 1)\n",
    "data = data.drop(['Pressure3pm'], axis = 1)"
   ]
  },
  {
   "attachments": {},
   "cell_type": "markdown",
   "metadata": {},
   "source": [
    "Статистические характеристики"
   ]
  },
  {
   "cell_type": "code",
   "execution_count": null,
   "metadata": {},
   "outputs": [],
   "source": [
    "mi = mutual_info_regression(data_X, data_y)\n",
    "mi = pd.Series(mi)\n",
    "mi.index = data_X.columns\n",
    "mi.sort_values(ascending=False).plot.bar(figsize=(20,5))\n",
    "plt.ylabel('Взаимная информация')"
   ]
  },
  {
   "cell_type": "code",
   "execution_count": null,
   "metadata": {},
   "outputs": [],
   "source": [
    "sel_mi = SelectKBest(mutual_info_regression, k=15).fit(data_X, data_y)"
   ]
  },
  {
   "cell_type": "code",
   "execution_count": null,
   "metadata": {},
   "outputs": [],
   "source": [
    "data_filter = data_X[ data_X.columns[ sel_mi.get_support() ] ]\n",
    "data_filter"
   ]
  },
  {
   "cell_type": "code",
   "execution_count": null,
   "metadata": {},
   "outputs": [],
   "source": [
    "data = data_filter"
   ]
  },
  {
   "cell_type": "code",
   "execution_count": null,
   "metadata": {},
   "outputs": [],
   "source": [
    "\n",
    "\n",
    "f = ['Location','Sunshine','Humidity3pm', 'Rainfall','Pressure3pm']\n",
    "\n"
   ]
  },
  {
   "cell_type": "code",
   "execution_count": null,
   "metadata": {},
   "outputs": [],
   "source": [
    "\n",
    "\n",
    "from mlxtend.feature_selection import ExhaustiveFeatureSelector as EFS\n",
    "from sklearn.neighbors import KNeighborsClassifier\n",
    "\n",
    "knn = KNeighborsClassifier(n_neighbors=3)\n",
    "\n"
   ]
  },
  {
   "cell_type": "code",
   "execution_count": null,
   "metadata": {},
   "outputs": [],
   "source": [
    "\n",
    "\n",
    "efs1 = EFS(knn, \n",
    "           min_features=2,\n",
    "           max_features=4,\n",
    "           scoring='accuracy',\n",
    "           print_progress=True,\n",
    "           cv=5)\n",
    "\n",
    "efs1 = efs1.fit(data_X[f], data_y)\n",
    "\n",
    "print('Best accuracy score: %.2f' % efs1.best_score_)\n",
    "print('Best subset (indices):', efs1.best_idx_)\n",
    "print('Best subset (corresponding names):', efs1.best_feature_names_)\n",
    "\n"
   ]
  },
  {
   "cell_type": "code",
   "execution_count": null,
   "metadata": {},
   "outputs": [],
   "source": [
    "efs2 = EFS(knn, \n",
    "           min_features=1,\n",
    "           max_features=2,\n",
    "           scoring='accuracy',\n",
    "           print_progress=True,\n",
    "           cv=5)\n",
    "\n",
    "efs2 = efs2.fit(data_X[f], data_y)\n",
    "\n",
    "print('Best accuracy score: %.2f' % efs2.best_score_)\n",
    "print('Best subset (indices):', efs2.best_idx_)\n",
    "print('Best subset (corresponding names):', efs2.best_feature_names_)"
   ]
  },
  {
   "cell_type": "code",
   "execution_count": null,
   "metadata": {},
   "outputs": [],
   "source": [
    "\n",
    "\n",
    "from operator import itemgetter\n",
    "\n",
    "def draw_feature_importances(tree_model, X_dataset, title, figsize=(7,4)):\n",
    "    list_to_sort = list(zip(X_dataset.columns.values, tree_model.feature_importances_))\n",
    "    sorted_list = sorted(list_to_sort, key=itemgetter(1), reverse = True)\n",
    "    labels = [x for x,_ in sorted_list]\n",
    "    data = [x for _,x in sorted_list]\n",
    "    fig, ax = plt.subplots(figsize=figsize)\n",
    "    ax.set_title(title)\n",
    "    ind = np.arange(len(labels))\n",
    "    plt.bar(ind, data)\n",
    "    plt.xticks(ind, labels, rotation='vertical')\n",
    "    for a,b in zip(ind, data):\n",
    "        plt.text(a-0.1, b+0.005, str(round(b,3)))\n",
    "    plt.show()\n",
    "    return labels, data\n",
    "\n"
   ]
  },
  {
   "cell_type": "code",
   "execution_count": null,
   "metadata": {},
   "outputs": [],
   "source": [
    "\n",
    "\n",
    "from sklearn.ensemble import RandomForestClassifier\n",
    "\n",
    "rfc1 = RandomForestClassifier()\n",
    "rfc1.fit(data_X, data_y)\n",
    "\n",
    "rfc1.feature_importances_, sum(rfc1.feature_importances_)\n",
    "\n"
   ]
  },
  {
   "cell_type": "code",
   "execution_count": null,
   "metadata": {},
   "outputs": [],
   "source": [
    "_,_=draw_feature_importances(rfc1, data, 'Важность признаков в случайном лесе')"
   ]
  },
  {
   "cell_type": "code",
   "execution_count": null,
   "metadata": {},
   "outputs": [],
   "source": [
    "filter_index = data_X.columns[ SelectFromModel(rfc1, threshold='0.1*mean').fit(data_X, data_y).get_support() ]"
   ]
  },
  {
   "cell_type": "code",
   "execution_count": null,
   "metadata": {},
   "outputs": [],
   "source": [
    "\n",
    "\n",
    "data_filter = data_X[filter_index]\n",
    "data_filter\n",
    "\n"
   ]
  }
 ],
 "metadata": {
  "kernelspec": {
   "display_name": "Python 3",
   "language": "python",
   "name": "python3"
  },
  "language_info": {
   "codemirror_mode": {
    "name": "ipython",
    "version": 3
   },
   "file_extension": ".py",
   "mimetype": "text/x-python",
   "name": "python",
   "nbconvert_exporter": "python",
   "pygments_lexer": "ipython3",
   "version": "3.10.6"
  },
  "orig_nbformat": 4
 },
 "nbformat": 4,
 "nbformat_minor": 2
}
